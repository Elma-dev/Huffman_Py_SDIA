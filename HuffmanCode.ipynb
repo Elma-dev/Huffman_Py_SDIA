{
  "nbformat": 4,
  "nbformat_minor": 0,
  "metadata": {
    "colab": {
      "provenance": [],
      "authorship_tag": "ABX9TyOKv4OAPI9DMT8g7reOSoJv",
      "include_colab_link": true
    },
    "kernelspec": {
      "name": "python3",
      "display_name": "Python 3"
    },
    "language_info": {
      "name": "python"
    }
  },
  "cells": [
    {
      "cell_type": "markdown",
      "metadata": {
        "id": "view-in-github",
        "colab_type": "text"
      },
      "source": [
        "<a href=\"https://colab.research.google.com/github/Elma-dev/Huffman_Py_SDIA/blob/main/HuffmanCode.ipynb\" target=\"_parent\"><img src=\"https://colab.research.google.com/assets/colab-badge.svg\" alt=\"Open In Colab\"/></a>"
      ]
    },
    {
      "cell_type": "markdown",
      "source": [
        "#**Algorithme Huffman**# "
      ],
      "metadata": {
        "id": "bdI0fCtBvs6G"
      }
    },
    {
      "cell_type": "markdown",
      "source": [
        "#**Exemple de Class Sorted**#"
      ],
      "metadata": {
        "id": "7Wp5o47ewNS5"
      }
    },
    {
      "cell_type": "code",
      "source": [
        "#exemple sorted\n",
        "sorted([10,5,2,1])"
      ],
      "metadata": {
        "colab": {
          "base_uri": "https://localhost:8080/"
        },
        "id": "HoyQLOZiINJN",
        "outputId": "67010bc9-99f8-4860-c8ae-0a8f2a9824a8"
      },
      "execution_count": null,
      "outputs": [
        {
          "output_type": "execute_result",
          "data": {
            "text/plain": [
              "[1, 2, 5, 10]"
            ]
          },
          "metadata": {},
          "execution_count": 225
        }
      ]
    },
    {
      "cell_type": "markdown",
      "source": [
        "#**Exemple de fonction Anonym lambda**#"
      ],
      "metadata": {
        "id": "0OUGX_39wX1X"
      }
    },
    {
      "cell_type": "code",
      "source": [
        "#exemple lambda et utilisation avec list\n",
        "f=lambda x : x**2\n",
        "f(2)\n",
        "\n",
        "list(map(lambda x:x**2,[1,2,3,4]))"
      ],
      "metadata": {
        "colab": {
          "base_uri": "https://localhost:8080/"
        },
        "id": "X7-5hrFgscil",
        "outputId": "b20fe0bb-a614-45e1-9fc4-bc451705785d"
      },
      "execution_count": null,
      "outputs": [
        {
          "output_type": "execute_result",
          "data": {
            "text/plain": [
              "[1, 4, 9, 16]"
            ]
          },
          "metadata": {},
          "execution_count": 235
        }
      ]
    },
    {
      "cell_type": "markdown",
      "source": [
        "#**Exemple dectionnaire (dict,HashMap)**#"
      ],
      "metadata": {
        "id": "TrRoFIxCw5Zy"
      }
    },
    {
      "cell_type": "code",
      "source": [
        "#dict   {key:val}\n",
        "a=dict()\n",
        "a['Mohtaram']=20\n",
        "a['Ayoub']=18\n",
        "#get values\n",
        "list(a.values())\n"
      ],
      "metadata": {
        "colab": {
          "base_uri": "https://localhost:8080/"
        },
        "id": "Ur5p3YHQubwO",
        "outputId": "f4ef56c3-b5bf-4716-ff92-ef8759c9f961"
      },
      "execution_count": null,
      "outputs": [
        {
          "output_type": "execute_result",
          "data": {
            "text/plain": [
              "[20]"
            ]
          },
          "metadata": {},
          "execution_count": 243
        }
      ]
    },
    {
      "cell_type": "markdown",
      "source": [
        "#**Class Data**#"
      ],
      "metadata": {
        "id": "1_cV4PX9xLBj"
      }
    },
    {
      "cell_type": "code",
      "source": [
        "class Data:\n",
        "  def __init__(self,c='',nbr=0,cbin=''):\n",
        "    self.s=c\n",
        "    self.n=nbr\n",
        "    self.c=cbin"
      ],
      "metadata": {
        "id": "nIWSJ_5QaE9r"
      },
      "execution_count": null,
      "outputs": []
    },
    {
      "cell_type": "markdown",
      "source": [
        "#**Class Node**#"
      ],
      "metadata": {
        "id": "1RLy0X1axQ9k"
      }
    },
    {
      "cell_type": "code",
      "source": [
        "class Node:\n",
        "  def __init__(self,data=None,left=None,right=None):\n",
        "    self.data=data\n",
        "    self.left=left\n",
        "    self.right=right"
      ],
      "metadata": {
        "id": "ee0kXFOhP5HO"
      },
      "execution_count": null,
      "outputs": []
    },
    {
      "cell_type": "markdown",
      "source": [
        "#**Class Arbre Huffman**#"
      ],
      "metadata": {
        "id": "jgb8SkfWxXX2"
      }
    },
    {
      "cell_type": "code",
      "source": [
        "class ArbreHuffman:\n",
        "  def __init__(self,racine=None):\n",
        "    self.racine=racine"
      ],
      "metadata": {
        "id": "1oaNjmWECbti"
      },
      "execution_count": null,
      "outputs": []
    },
    {
      "cell_type": "markdown",
      "source": [
        "#**Class Huffman**#"
      ],
      "metadata": {
        "id": "6SrZDUezxfhd"
      }
    },
    {
      "cell_type": "code",
      "source": [
        "class Huffman:\n",
        "  def __init__(self,dataTxt=''):\n",
        "    self.data=dataTxt\n",
        "    self.encodage=dict()\n",
        "    self.arbre=None\n",
        "    self.occur=dict()\n",
        "  #######################\n",
        "  #   Autres Fonction:  #\n",
        "  #######################\n",
        "  def __calculeNbrOccur__(self):      #Fonction pour calculer nbr d'occurrence\n",
        "    for c in self.data:\n",
        "      if self.occur.get(c)==None:\n",
        "        self.occur[c]=1\n",
        "      else:\n",
        "        self.occur[c]+=1\n",
        "  ########################\n",
        "  def creeArbre(self):\n",
        "    noudes=[]\n",
        "    self.__calculeNbrOccur__()\n",
        "\n",
        "    for c in self.occur.keys():\n",
        "      d=Data(c,self.occur[c])\n",
        "      noudes.append(Node(d))\n",
        "      \n",
        "    while len(noudes)>1:\n",
        "      noudes=sorted(noudes,key=lambda x:x.data.n)\n",
        "        #for i in noudes:\n",
        "        #print(\"->\",i.data.s,i.data.n,end=' ')\n",
        "      agauche,adroite=noudes[0],noudes[1]\n",
        "      agauche.data.c,adroite.data.c=0,1\n",
        "      #print(\"\\n->\",agauche.data.s,adroite.data.s,agauche.data.n,adroite.data.n)\n",
        "      noudes.remove(agauche)\n",
        "      noudes.remove(adroite)\n",
        "      d=Data(agauche.data.s+adroite.data.s,agauche.data.n+adroite.data.n)\n",
        "      noudes.append(Node(d,agauche,adroite))\n",
        "    self.arbre=noudes[0]\n",
        " \n",
        "  ########################\n",
        "  def __getEncodage__(self,noeud,val=''):\n",
        "    v=val+str(noeud.data.c)\n",
        "    if noeud.left!=None:\n",
        "      self.__getEncodage__(noeud.left,v)\n",
        "    if noeud.right!=None:\n",
        "      self.__getEncodage__(noeud.right,v)\n",
        "    elif noeud.left==None and noeud.right==None:\n",
        "      self.encodage[noeud.data.s]=v\n",
        "  def getEncodage(self):\n",
        "    self.__getEncodage__(self.arbre)\n",
        "  \n",
        "  #####################\n",
        "  def calculGain(self):\n",
        "    nbrBitTotal=len(self.data)*8\n",
        "    nbrBitHuffman=0\n",
        "    for k,v in self.occur.items():\n",
        "      nbrBitHuffman+=len(self.encodage[k])*v\n",
        "    return nbrBitTotal-nbrBitHuffman\n",
        " \n",
        "  #######################\n",
        "  def __RGD__(self,root):\n",
        "    if root:\n",
        "      #if root.left==None and root.right==None:\n",
        "      print(root.data.c,root.data.s,root.data.n)\n",
        "      self.__RGD__(root.left)\n",
        "      self.__RGD__(root.right)\n",
        "  def RGD(self):\n",
        "    self.__RGD__(self.arbre)\n",
        "  ######################"
      ],
      "metadata": {
        "id": "kC60kNBzB29m"
      },
      "execution_count": null,
      "outputs": []
    },
    {
      "cell_type": "markdown",
      "source": [
        "#**Test Code**#"
      ],
      "metadata": {
        "id": "ROhbiWlQxlNj"
      }
    },
    {
      "cell_type": "code",
      "source": [
        "text='BCCABBDDAECCBBAEDDCC'\n",
        "#\n",
        "compressTxt=Huffman(text)\n",
        "compressTxt.creeArbre()\n",
        "compressTxt.getEncodage()\n",
        "#\n",
        "occur=compressTxt.occur\n",
        "encod=compressTxt.encodage\n",
        "gain=compressTxt.calculGain()\n",
        "#\n",
        "print(f\"Nombre d'occurrance de chaque caractere:{occur}\")\n",
        "print(f\"Encodage de chaque caractere:{encod}\")\n",
        "#\n",
        "textCompressedBin=\"\"\n",
        "for i in text:\n",
        "  textCompressedBin+=encod[i]\n",
        "#\n",
        "print(f\"{text} ===> {textCompressedBin} \")\n",
        "print(f\"gain = {gain} --> le nombre de bit utilse apres codage de Huffman: {8*len(text)-gain}\")\n",
        "\n"
      ],
      "metadata": {
        "colab": {
          "base_uri": "https://localhost:8080/"
        },
        "id": "wCTiNuYdMTzI",
        "outputId": "5d088b0b-af77-4620-9bd2-768c5125ed2b"
      },
      "execution_count": null,
      "outputs": [
        {
          "output_type": "stream",
          "name": "stdout",
          "text": [
            "Nombre d'occurrance de chaque caractere:{'B': 5, 'C': 6, 'A': 3, 'D': 4, 'E': 2}\n",
            "Encodage de chaque caractere:{'D': '00', 'B': '01', 'E': '100', 'A': '101', 'C': '11'}\n",
            "BCCABBDDAECCBBAEDDCC ===> 011111101010100001011001111010110110000001111 \n",
            "gain = 115 --> le nombre de bit utilse apres codage de Huffman: 45\n"
          ]
        }
      ]
    },
    {
      "cell_type": "code",
      "source": [
        "compressTxt.RGD()"
      ],
      "metadata": {
        "colab": {
          "base_uri": "https://localhost:8080/"
        },
        "id": "pKAvzyGTcT3J",
        "outputId": "45e57882-96f0-4b5b-f150-aa795ad05fec"
      },
      "execution_count": null,
      "outputs": [
        {
          "output_type": "stream",
          "name": "stdout",
          "text": [
            " DBEAC 20\n",
            "0 DB 9\n",
            "0 D 4\n",
            "1 B 5\n",
            "1 EAC 11\n",
            "0 EA 5\n",
            "0 E 2\n",
            "1 A 3\n",
            "1 C 6\n"
          ]
        }
      ]
    }
  ]
}